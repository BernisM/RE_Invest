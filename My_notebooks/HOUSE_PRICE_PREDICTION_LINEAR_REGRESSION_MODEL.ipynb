{
 "cells": [
  {
   "cell_type": "markdown",
   "metadata": {},
   "source": [
    "# HOUSE PRICE PREDICTION LINEAR REGRESSION MODEL"
   ]
  },
  {
   "cell_type": "markdown",
   "metadata": {},
   "source": [
    "Regression linéaire : Relation linéaire entre les variables dépendantes (ce qu'on essaie de prédire --> prix d'un bien immobilier) et les variables indépendantes (caractériques du bien : Surface, nombre de chambre, etc...)\n",
    "\n",
    "Equation de régression linéaire simple : \n",
    "Y = beta_0 + beta_1 * X + epsilon \n",
    "- (Y) est la variable dépendante (prix), \n",
    "- (X) est la caractéristique (surface), \n",
    "- (beta_0) est l'intercept (la valeur de (Y) lorsque (X) zéro), \n",
    "- (beta_1) est la pente (le changement moyen dans (Y) pour un changement d'une unité dans (X)), \n",
    "- (epsilon) est le terme d'erreur (les différences entre les valeurs prédites et réelles).\n",
    "\n",
    "Equation à plusieurs caractéristiques :\n",
    "Y = beta_0 + beta_1 * X1 + beta_2 * X2 + ... + beta_n * Xn + epsilon \n",
    "\n",
    "Resume : Modélisation la relation entre les variables et faire des prédictions. L'ajustement important pour obtenir ces prédictions précises dans l'estimation des prix de l'immobilier."
   ]
  },
  {
   "cell_type": "code",
   "execution_count": 1,
   "metadata": {},
   "outputs": [],
   "source": [
    "# Import librairies\n",
    "\n",
    "import pandas as pd\n",
    "from sklearn.model_selection import train_test_split\n",
    "from sklearn.linear_model import LinearRegression\n",
    "from sklearn.metrics import mean_squared_log_error\n",
    "import os"
   ]
  },
  {
   "cell_type": "code",
   "execution_count": null,
   "metadata": {},
   "outputs": [],
   "source": [
    "# Get data\n",
    "\n",
    "path = 'C:/Users/massw/OneDrive/Bureau/Programmation/RE_Invest/RE_Invest'\n",
    "\n",
    "file = os.path.join(path,'4_rue_du_vert_buisson.csv')   \n",
    "data = pd.read_csv(file)\n",
    "\n",
    "print(data)"
   ]
  },
  {
   "cell_type": "code",
   "execution_count": 16,
   "metadata": {},
   "outputs": [],
   "source": [
    "# Divide data with test and train \n",
    "\n",
    "X = data[['Flat(1)_House(0)', 'Room', 'Bedroom', 'Area (m2)', 'Sale_Since']] # Features\n",
    "y = data[['Price (EUR)']] # Variable target\n",
    "\n",
    "X_train, X_test, Y_train, y_test = train_test_split(X, y, test_size=0.2, random_state=42)"
   ]
  },
  {
   "cell_type": "markdown",
   "metadata": {},
   "source": [
    "Entrainer le modèle :\n",
    "Trouver les valeurs optimales de (beta_0, beta_1, beta_n) qui minimisent l'erreur du modèle. Utilisation de la méthode d'optimisation, telle de les moindres carrés"
   ]
  },
  {
   "cell_type": "code",
   "execution_count": null,
   "metadata": {},
   "outputs": [],
   "source": [
    "# Create and train model\n",
    "\n",
    "model = LinearRegression()\n",
    "model.fit(X_train, Y_train)"
   ]
  },
  {
   "cell_type": "code",
   "execution_count": 18,
   "metadata": {},
   "outputs": [],
   "source": [
    "# Predictions\n",
    "\n",
    "y_pred = model.predict(X_test)"
   ]
  },
  {
   "cell_type": "markdown",
   "metadata": {},
   "source": [
    "Evaluation du modèle :\n",
    "Utilisation des métriques : erreur quadriatique moyenne (MSE) ou le coeff de détermination (R2). Métriques qui indiquent à quel point le modèle est capable de faire de bonnes prédictions"
   ]
  },
  {
   "cell_type": "code",
   "execution_count": 19,
   "metadata": {},
   "outputs": [
    {
     "name": "stdout",
     "output_type": "stream",
     "text": [
      "Mean Squared Error : 0.060280057936879905\n"
     ]
    }
   ],
   "source": [
    "# Evaluate performance model\n",
    "\n",
    "mse = mean_squared_log_error(y_test, y_pred)\n",
    "print(f'Mean Squared Error : {mse}')"
   ]
  },
  {
   "cell_type": "code",
   "execution_count": 24,
   "metadata": {},
   "outputs": [
    {
     "name": "stdout",
     "output_type": "stream",
     "text": [
      "Estimation du prix: [[216511.92246278]]\n"
     ]
    }
   ],
   "source": [
    "# Données pour la prédiction et affichage du prix prédit\n",
    "\n",
    "new_propery_features = pd.DataFrame({'Flat(1)_House(0)':[1], 'Room':[2], 'Bedroom':[3], 'Area (m2)':[66], 'Sale_Since':[0]})\n",
    "estimated_price = model.predict(new_propery_features)\n",
    "print(f\"Estimation du prix: {estimated_price}\")"
   ]
  }
 ],
 "metadata": {
  "kernelspec": {
   "display_name": "Deep_Learning",
   "language": "python",
   "name": "python3"
  },
  "language_info": {
   "codemirror_mode": {
    "name": "ipython",
    "version": 3
   },
   "file_extension": ".py",
   "mimetype": "text/x-python",
   "name": "python",
   "nbconvert_exporter": "python",
   "pygments_lexer": "ipython3",
   "version": "3.10.8"
  }
 },
 "nbformat": 4,
 "nbformat_minor": 2
}
